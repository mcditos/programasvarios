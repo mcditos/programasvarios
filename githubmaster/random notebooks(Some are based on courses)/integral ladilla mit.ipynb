{
 "cells": [
  {
   "cell_type": "code",
   "execution_count": 2,
   "metadata": {
    "collapsed": true
   },
   "outputs": [],
   "source": [
    "import numpy as np"
   ]
  },
  {
   "cell_type": "code",
   "execution_count": 1,
   "metadata": {
    "collapsed": true
   },
   "outputs": [],
   "source": [
    "def f(x,t,w0,w1,l):\n",
    "    return (x*sin((pi* x)/l)**2 )+ (x*sin((2*pi*x)/l)**2 )+(2*x*sin((2*pi*x)/l)*sin((pi* x)/l)*cos((w0-w1)*t))"
   ]
  },
  {
   "cell_type": "code",
   "execution_count": 2,
   "metadata": {
    "collapsed": true
   },
   "outputs": [],
   "source": [
    "from sympy import *"
   ]
  },
  {
   "cell_type": "code",
   "execution_count": 6,
   "metadata": {},
   "outputs": [],
   "source": [
    "init_printing(use_unicode=False, wrap_line=False, no_global=True)\n",
    "x = Symbol('x')\n",
    "t = Symbol('t')\n",
    "w0 = Symbol('w0')\n",
    "w1 = Symbol('w1')\n",
    "l = Symbol('l')\n",
    "\n",
    "integral=integrate(f(x,t,w0,w1,l),(x,0,l/2)).evalf()"
   ]
  },
  {
   "cell_type": "code",
   "execution_count": 7,
   "metadata": {},
   "outputs": [
    {
     "data": {
      "image/png": "[encoded data removed]",
      "text/latex": [
       "$$0.122143316440449 l^{2} \\cos{\\left (t \\left(w_{0} - w_{1}\\right) \\right )} + 0.150330295910584 l^{2}$$"
      ],
      "text/plain": [
       "                   2                                       2\n",
       "0.122143316440449*l *cos(t*(w0 - w1)) + 0.150330295910584*l "
      ]
     },
     "execution_count": 7,
     "metadata": {},
     "output_type": "execute_result"
    }
   ],
   "source": [
    "integral"
   ]
  },
  {
   "cell_type": "code",
   "execution_count": null,
   "metadata": {
    "collapsed": true
   },
   "outputs": [],
   "source": []
  }
 ],
 "metadata": {
  "kernelspec": {
   "display_name": "Python 3",
   "language": "python",
   "name": "python3"
  },
  "language_info": {
   "codemirror_mode": {
    "name": "ipython",
    "version": 3
   },
   "file_extension": ".py",
   "mimetype": "text/x-python",
   "name": "python",
   "nbconvert_exporter": "python",
   "pygments_lexer": "ipython3",
   "version": "3.6.1"
  }
 },
 "nbformat": 4,
 "nbformat_minor": 2
}
