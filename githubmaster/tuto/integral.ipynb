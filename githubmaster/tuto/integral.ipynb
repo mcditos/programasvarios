{
 "cells": [
  {
   "cell_type": "markdown",
   "metadata": {},
   "source": [
    "Veamos como realizar integracion usando python"
   ]
  },
  {
   "cell_type": "code",
   "execution_count": 10,
   "metadata": {},
   "outputs": [],
   "source": [
    "import numpy as np\n",
    "from scipy import integrate\n",
    "from fractions import Fraction"
   ]
  },
  {
   "cell_type": "markdown",
   "metadata": {},
   "source": [
    "$$f(x)= ax^{11}+bx^{\\frac{2}{3}}$$"
   ]
  },
  {
   "cell_type": "markdown",
   "metadata": {},
   "source": [
    "Lo primero es definir la funcion para eso ejecutamos el codigo siguiente"
   ]
  },
  {
   "cell_type": "code",
   "execution_count": 11,
   "metadata": {},
   "outputs": [],
   "source": [
    "def f(x,a,b):\n",
    "    return (a*x**11)+(b*x**(2/3)) "
   ]
  },
  {
   "cell_type": "markdown",
   "metadata": {},
   "source": [
    "Empezaremos por las integrales definidas las cuales son mas sencillas para las computadoras , usaremos uno de los metodos mas comunes, para ello supondremos que a=b=1 que es el metodo de cuadratura de la siguiente forma :"
   ]
  },
  {
   "cell_type": "code",
   "execution_count": 12,
   "metadata": {},
   "outputs": [
    {
     "data": {
      "image/png": "[encoded data removed]",
      "text/latex": [
       "$$\\left ( 20345060.172053218, \\quad 2.258755424039773e-07\\right )$$"
      ],
      "text/plain": [
       "(20345060.172053218, 2.258755424039773e-07)"
      ]
     },
     "execution_count": 12,
     "metadata": {},
     "output_type": "execute_result"
    }
   ],
   "source": [
    "integrate.quad(f,1,5,args=(1,1))"
   ]
  },
  {
   "cell_type": "markdown",
   "metadata": {},
   "source": [
    "como se ve el comando tiene la forma integrate.quad(f,a,b,args=(c,d)), donde a es el limite inferior de integracion, b el superior y tanto c como d , son argumentos de la funcion f en caso de que la funcion los necesite,El primer resultado denota el resultado de la integral definida y el segundo simboliza el error que conlleva el metodo (quad es una funcion que python extrae de la libreria QUADPACK de fortran77)"
   ]
  },
  {
   "cell_type": "markdown",
   "metadata": {},
   "source": [
    "Para lograr una integral definida es necesario usar calculo simbolico , Para calculos simbolicos la libreria estandar es sympy ,Procederemos a integrar la misma funcion :"
   ]
  },
  {
   "cell_type": "code",
   "execution_count": 13,
   "metadata": {},
   "outputs": [],
   "source": [
    "import sympy\n"
   ]
  },
  {
   "cell_type": "markdown",
   "metadata": {},
   "source": [
    "Lo primero es definir los simbolos a ser usados"
   ]
  },
  {
   "cell_type": "code",
   "execution_count": 14,
   "metadata": {},
   "outputs": [],
   "source": [
    "sympy.init_printing(use_unicode=False, wrap_line=False, no_global=True)\n",
    "x = sympy.Symbol('x')\n",
    "a = sympy.Symbol('a')\n",
    "b = sympy.Symbol('b')"
   ]
  },
  {
   "cell_type": "markdown",
   "metadata": {},
   "source": [
    "Para integrar usamos la funcion integrate"
   ]
  },
  {
   "cell_type": "code",
   "execution_count": 15,
   "metadata": {},
   "outputs": [
    {
     "data": {
      "image/png": "[encoded data removed]",
      "text/latex": [
       "$$\\frac{a x^{12}}{12} + 0.6 b x^{1.66666666666667}$$"
      ],
      "text/plain": [
       "   12                          \n",
       "a*x            1.66666666666667\n",
       "----- + 0.6*b*x                \n",
       "  12                           "
      ]
     },
     "execution_count": 15,
     "metadata": {},
     "output_type": "execute_result"
    }
   ],
   "source": [
    "integral=sympy.integrate(((a*x**11)+(b*x**(2/3))) ,x)\n",
    "integral"
   ]
  },
  {
   "cell_type": "markdown",
   "metadata": {},
   "source": [
    "si queremos obtener la integral definida consevando a y b usamos un tercer argumento donde indicamos la variable a evaluar y en que rango"
   ]
  },
  {
   "cell_type": "code",
   "execution_count": 21,
   "metadata": {},
   "outputs": [
    {
     "data": {
      "image/png": "[encoded data removed]",
      "text/latex": [
       "$$20345052 a + 8.1720532146386 b$$"
      ],
      "text/plain": [
       "20345052*a + 8.1720532146386*b"
      ]
     },
     "execution_count": 21,
     "metadata": {},
     "output_type": "execute_result"
    }
   ],
   "source": [
    "integral=sympy.integrate((a*x**11)+(b*x**(2/3)) ,(x,1,5))\n",
    "integral"
   ]
  },
  {
   "cell_type": "markdown",
   "metadata": {},
   "source": [
    "Notese que si se usa la funcion F(x)"
   ]
  },
  {
   "cell_type": "code",
   "execution_count": 17,
   "metadata": {},
   "outputs": [
    {
     "data": {
      "image/png": "[encoded data removed]",
      "text/latex": [
       "$$\\frac{a x^{12}}{12} + 0.6 b x^{1.66666666666667}$$"
      ],
      "text/plain": [
       "   12                          \n",
       "a*x            1.66666666666667\n",
       "----- + 0.6*b*x                \n",
       "  12                           "
      ]
     },
     "execution_count": 17,
     "metadata": {},
     "output_type": "execute_result"
    }
   ],
   "source": [
    "sympy.integrate(f(x,a,b),x)"
   ]
  },
  {
   "cell_type": "markdown",
   "metadata": {},
   "source": [
    "Si se quiere evaluar los valores de a y b basta con usar la funcion subs"
   ]
  },
  {
   "cell_type": "code",
   "execution_count": 18,
   "metadata": {},
   "outputs": [
    {
     "data": {
      "image/png": "[encoded data removed]",
      "text/latex": [
       "$$20345060.1720532$$"
      ],
      "text/plain": [
       "20345060.1720532"
      ]
     },
     "execution_count": 18,
     "metadata": {},
     "output_type": "execute_result"
    }
   ],
   "source": [
    "integral.subs([(a, 1), (b, 1)])"
   ]
  }
 ],
 "metadata": {
  "kernelspec": {
   "display_name": "Python 3",
   "language": "python",
   "name": "python3"
  },
  "language_info": {
   "codemirror_mode": {
    "name": "ipython",
    "version": 3
   },
   "file_extension": ".py",
   "mimetype": "text/x-python",
   "name": "python",
   "nbconvert_exporter": "python",
   "pygments_lexer": "ipython3",
   "version": "3.6.1"
  }
 },
 "nbformat": 4,
 "nbformat_minor": 1
}
