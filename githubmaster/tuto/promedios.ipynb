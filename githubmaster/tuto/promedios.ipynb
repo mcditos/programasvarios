{
 "metadata": {
  "name": "promedios"
 },
 "nbformat": 3,
 "nbformat_minor": 0,
 "worksheets": [
  {
   "cells": [
    {
     "cell_type": "markdown",
     "metadata": {},
     "source": [
      "<span style=\"color: black; font-family: Babas; font-size: 2em\"> El primer paso es importar todos los modulos necesarios para el funcionamiento del programa</span>"
     ]
    },
    {
     "cell_type": "code",
     "collapsed": false,
     "input": [
      "import matplotlib.pyplot as plt\n",
      "import numpy as np\n",
      "import os"
     ],
     "language": "python",
     "metadata": {},
     "outputs": [],
     "prompt_number": 3
    },
    {
     "cell_type": "markdown",
     "metadata": {},
     "source": [
      "<span style=\"color: black; font-family: Babas; font-size: 2em\">Lo siguiente es entrar en el directorio desde el cual se correra el programa</span>"
     ]
    },
    {
     "cell_type": "code",
     "collapsed": false,
     "input": [
      "%%bash\n",
      "cd /run/media/cbarrios/NuevoVol/Gerardo/DATA-SMOS/SMOS-tratamiento/tratamiento_python/csv/febrero/2011\n",
      "ls"
     ],
     "language": "python",
     "metadata": {},
     "outputs": [
      {
       "output_type": "stream",
       "stream": "stdout",
       "text": [
        "2011Promedio.csv\n",
        "SM_REPR_MIR_SMUDP2_20110202T093612_20110202T102933_620_001_1.nc.dat.csv\n",
        "SM_REPR_MIR_SMUDP2_20110202T220652_20110202T230005_620_001_1.nc.dat.csv\n",
        "SM_REPR_MIR_SMUDP2_20110204T095822_20110204T105141_620_001_1.nc.dat.csv\n",
        "SM_REPR_MIR_SMUDP2_20110205T215003_20110205T224316_620_001_1.nc.dat.csv\n",
        "SM_REPR_MIR_SMUDP2_20110207T094132_20110207T103451_620_001_1.nc.dat.csv\n",
        "SM_REPR_MIR_SMUDP2_20110207T221211_20110207T230525_620_001_1.nc.dat.csv\n",
        "SM_REPR_MIR_SMUDP2_20110210T215521_20110210T224835_620_001_1.nc.dat.csv\n",
        "SM_REPR_MIR_SMUDP2_20110212T094650_20110212T104010_620_001_1.nc.dat.csv\n",
        "SM_REPR_MIR_SMUDP2_20110215T220040_20110215T225353_620_001_1.nc.dat.csv\n",
        "SM_REPR_MIR_SMUDP2_20110217T095208_20110217T104528_620_001_1.nc.dat.csv\n",
        "SM_REPR_MIR_SMUDP2_20110220T093518_20110220T102838_620_001_1.nc.dat.csv\n",
        "SM_REPR_MIR_SMUDP2_20110220T220558_20110220T225912_620_001_1.nc.dat.csv\n",
        "SM_REPR_MIR_SMUDP2_20110223T214908_20110223T224222_620_001_1.nc.dat.csv\n",
        "SM_REPR_MIR_SMUDP2_20110225T094036_20110225T103356_620_001_1.nc.dat.csv\n",
        "SM_REPR_MIR_SMUDP2_20110225T221116_20110225T230429_620_001_1.nc.dat.csv\n"
       ]
      }
     ],
     "prompt_number": 4
    },
    {
     "cell_type": "markdown",
     "metadata": {},
     "source": [
      "<span style=\"color: black; font-family: Babas; font-size: 2em\">Luego procedemos a indicar el camino a los archivos para cargarlos con el modulo os ademas de iniciar las variables que usaremos como contador en el proximo paso</span>"
     ]
    },
    {
     "cell_type": "code",
     "collapsed": false,
     "input": [
      "path=\"/run/media/cbarrios/NuevoVol/Gerardo/DATA-SMOS/SMOS-tratamiento/tratamiento_python/csv/febrero/2011\"\n",
      "archivos=os.listdir(path)\n",
      "g=0\n",
      "mi_var=0"
     ],
     "language": "python",
     "metadata": {},
     "outputs": [],
     "prompt_number": 5
    },
    {
     "cell_type": "markdown",
     "metadata": {},
     "source": [
      "<span style=\"color: black; font-family: Babas; font-size: 2em\">Filtramos cual es el array mas grande entre nuestros archivos para no tener problemas de compatibilidad luego </span>(una explicacion puede ser encontrada [aqui](ww.g.com))"
     ]
    },
    {
     "cell_type": "code",
     "collapsed": false,
     "input": [
      "for i in range(0,len(archivos)):\n",
      "        Smos1=np.loadtxt(archivos[i],delimiter=\",\")\n",
      "        if len(Smos1)>g :\n",
      "            g=len(Smos1)\n",
      "            mi_var=i\n"
     ],
     "language": "python",
     "metadata": {},
     "outputs": [],
     "prompt_number": 34
    },
    {
     "cell_type": "markdown",
     "metadata": {},
     "source": [
      "<span style=\"color: black; font-family: Babas; font-size: 2em\">Cargamos un array y lo comparamos con todo los demas para computar el promedio</span>(cabe destacar que este es un promedio de promedios y puede diferir del promedio aunque es bastante proximo una explicacion puede ser conseguida [aqui](ww.g.com))"
     ]
    },
    {
     "cell_type": "code",
     "collapsed": false,
     "input": [
      "Smos=np.loadtxt(archivos[mi_var],delimiter=\",\")\n",
      "for z in range(0,mi_var-1)+range(mi_var+1,len(archivos)):\n",
      "    Smos1=np.loadtxt(archivos[z],delimiter=\",\")\n",
      "    C=np.zeros([])\n",
      "    D=np.zeros([])\n",
      "    for i  in range(0,len(Smos1)):\n",
      "            if Smos[i,0]==Smos1[i,0] :\n",
      "                if Smos[i,1]==Smos1[i,1] :\n",
      "                    Smos[i,2]=(Smos[i,2]+Smos1[i,2])/2\n",
      "\n"
     ],
     "language": "python",
     "metadata": {},
     "outputs": [],
     "prompt_number": 35
    },
    {
     "cell_type": "markdown",
     "metadata": {},
     "source": [
      "<span style=\"color: black; font-family: Babas; font-size: 2em\">Se procede a guardar nuestro nuevo arreglo con los promedios </span>"
     ]
    },
    {
     "cell_type": "code",
     "collapsed": false,
     "input": [
      "np.savetxt(\"/run/media/cbarrios/NuevoVol/Gerardo/DATA-SMOS/SMOS-tratamiento/tratamiento_python/csv/febrero/2011/\"+\"Promedio\"+'.csv',Smos, delimiter=',')        "
     ],
     "language": "python",
     "metadata": {},
     "outputs": [],
     "prompt_number": 37
    }
   ],
   "metadata": {}
  }
 ]
}