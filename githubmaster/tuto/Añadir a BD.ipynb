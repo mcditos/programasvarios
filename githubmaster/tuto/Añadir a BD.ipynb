{
 "cells": [
  {
   "cell_type": "code",
   "execution_count": 2,
   "metadata": {},
   "outputs": [],
   "source": [
    "from sqlalchemy import create_engine\n",
    "from sqlalchemy.orm import sessionmaker\n",
    "from basededatos import Base, Restaurant, MenuItem"
   ]
  },
  {
   "cell_type": "code",
   "execution_count": 6,
   "metadata": {},
   "outputs": [],
   "source": [
    "engine=create_engine('sqlite:///restaurantmenu.db')"
   ]
  },
  {
   "cell_type": "code",
   "execution_count": 7,
   "metadata": {
    "collapsed": true
   },
   "outputs": [],
   "source": [
    "Base.metadata.bind=engine\n",
    "DBsession=sessionmaker(bind=engine)"
   ]
  },
  {
   "cell_type": "code",
   "execution_count": 8,
   "metadata": {
    "collapsed": true
   },
   "outputs": [],
   "source": [
    "Session=DBsession()"
   ]
  },
  {
   "cell_type": "code",
   "execution_count": 21,
   "metadata": {},
   "outputs": [],
   "source": [
    "r1=Restaurant(name=\"Toma huevo mardito\")\n",
    "r2=Restaurant(name=\"sarchicha Porlacu KA\")\n",
    "r3=Restaurant(name=\"La Casa del Marico\")\n",
    "r4=Restaurant(name=\"Quejeso we\")\n",
    "Session.add(r1)\n",
    "Session.add(r2)\n",
    "Session.add(r3)\n",
    "Session.add(r4)"
   ]
  },
  {
   "cell_type": "code",
   "execution_count": 23,
   "metadata": {},
   "outputs": [
    {
     "data": {
      "text/plain": [
       "[<basededatos.Restaurant at 0x104a6fcc0>,\n",
       " <basededatos.Restaurant at 0x104ac56a0>,\n",
       " <basededatos.Restaurant at 0x104ac54e0>,\n",
       " <basededatos.Restaurant at 0x104ac56d8>,\n",
       " <basededatos.Restaurant at 0x104ac9c18>]"
      ]
     },
     "execution_count": 23,
     "metadata": {},
     "output_type": "execute_result"
    }
   ],
   "source": [
    "Session.query(Restaurant).all()"
   ]
  },
  {
   "cell_type": "code",
   "execution_count": 24,
   "metadata": {
    "collapsed": true
   },
   "outputs": [],
   "source": [
    "plato1=MenuItem(name=\"Chorizo portuano\",description=\"Tu sabeeeee\",course=\"SEXO CANDENTE\",\\\n",
    "                price=\"Barato para ti\",restaurant=r2)\n",
    "plato2=MenuItem(name=\"Transtijera\",description=\"descubrelo bebe\",course=\"SEXO CANDENTE\",\\\n",
    "                price=\"Barato para ti\",restaurant=r1)\n",
    "plato3=MenuItem(name=\"er chikigloti\",description=\"gordito sabroson\",course=\"SEXO CANDENTE\",\\\n",
    "                price=\"Barato para ti\",restaurant=r3)\n",
    "plato4=MenuItem(name=\"iubdiubwi\",description=\"ndoewno\",course=\"dcibneivb\",\\\n",
    "                price=\"wefinov\",restaurant=r4)"
   ]
  },
  {
   "cell_type": "code",
   "execution_count": 25,
   "metadata": {
    "collapsed": true
   },
   "outputs": [],
   "source": [
    "Session.add(plato1)\n",
    "Session.add(plato2)\n",
    "Session.add(plato3)\n",
    "Session.add(plato4)"
   ]
  },
  {
   "cell_type": "code",
   "execution_count": 26,
   "metadata": {},
   "outputs": [
    {
     "data": {
      "text/plain": [
       "[<basededatos.MenuItem at 0x104ab4ba8>,\n",
       " <basededatos.MenuItem at 0x104ab4b00>,\n",
       " <basededatos.MenuItem at 0x104ab49b0>,\n",
       " <basededatos.MenuItem at 0x104ab4d68>]"
      ]
     },
     "execution_count": 26,
     "metadata": {},
     "output_type": "execute_result"
    }
   ],
   "source": [
    "Session.commit()\n",
    "Session.query(MenuItem).all()"
   ]
  },
  {
   "cell_type": "code",
   "execution_count": 27,
   "metadata": {},
   "outputs": [
    {
     "data": {
      "text/plain": [
       "[<basededatos.Restaurant at 0x104a6fcc0>,\n",
       " <basededatos.Restaurant at 0x104ac56a0>,\n",
       " <basededatos.Restaurant at 0x104ac54e0>,\n",
       " <basededatos.Restaurant at 0x104ac56d8>,\n",
       " <basededatos.Restaurant at 0x104ac9c18>,\n",
       " <basededatos.Restaurant at 0x104ac0400>]"
      ]
     },
     "execution_count": 27,
     "metadata": {},
     "output_type": "execute_result"
    }
   ],
   "source": [
    "Session.query(Restaurant).all()"
   ]
  },
  {
   "cell_type": "code",
   "execution_count": 39,
   "metadata": {},
   "outputs": [],
   "source": [
    "restaurants = Session.query(Restaurant).all()"
   ]
  },
  {
   "cell_type": "raw",
   "metadata": {},
   "source": [
    " print(restaurants[5])"
   ]
  },
  {
   "cell_type": "code",
   "execution_count": 49,
   "metadata": {},
   "outputs": [],
   "source": [
    "Session.delete(restaurants[5])"
   ]
  },
  {
   "cell_type": "code",
   "execution_count": 50,
   "metadata": {
    "collapsed": true
   },
   "outputs": [],
   "source": [
    "Session.commit()"
   ]
  },
  {
   "cell_type": "code",
   "execution_count": null,
   "metadata": {
    "collapsed": true
   },
   "outputs": [],
   "source": []
  }
 ],
 "metadata": {
  "kernelspec": {
   "display_name": "Python 3",
   "language": "python",
   "name": "python3"
  },
  "language_info": {
   "codemirror_mode": {
    "name": "ipython",
    "version": 3
   },
   "file_extension": ".py",
   "mimetype": "text/x-python",
   "name": "python",
   "nbconvert_exporter": "python",
   "pygments_lexer": "ipython3",
   "version": "3.6.1"
  }
 },
 "nbformat": 4,
 "nbformat_minor": 2
}
