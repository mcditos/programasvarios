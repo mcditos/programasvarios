{
 "metadata": {
  "name": "discreto array y porcenrtaje"
 },
 "nbformat": 3,
 "nbformat_minor": 0,
 "worksheets": [
  {
   "cells": [
    {
     "cell_type": "markdown",
     "metadata": {},
     "source": [
      "<span style=\"color: black; font-family: Babas; font-size: 2em\">El primer paso es importar los modulos que se ultilizaran </span>"
     ]
    },
    {
     "cell_type": "code",
     "collapsed": false,
     "input": [
      "import gdal\n",
      "import os\n",
      "import matplotlib.pyplot as plt\n",
      "import numpy as np\n",
      "from gdalconst import *\n",
      "from __future__ import division"
     ],
     "language": "python",
     "metadata": {},
     "outputs": [],
     "prompt_number": 1
    },
    {
     "cell_type": "markdown",
     "metadata": {},
     "source": [
      "<span style=\"color: black; font-family: Babas; font-size: 2em\">Procedemos a acceder a el lugar donde se ejecutara el programa usando el shell de bash</span>"
     ]
    },
    {
     "cell_type": "code",
     "collapsed": false,
     "input": [
      "%%bash\n",
      "cd /run/media/cbarrios/NuevoVol/Gerardo/Gerardo/astgmtdem/TIFFS/\n",
      "ls -a"
     ],
     "language": "python",
     "metadata": {},
     "outputs": [
      {
       "output_type": "stream",
       "stream": "stdout",
       "text": [
        ".\n",
        "..\n",
        "angulos_12_CR.tiff\n",
        "angulos_12_IN.tiff\n",
        "angulos_12_LD.tiff\n",
        "angulos_12_PC.tiff\n",
        "angulos_12_SB.tiff\n",
        "angulos_12.tiff\n",
        "angulos_12_UR.tiff\n",
        "angulos_12_VT.tiff\n",
        "angulos_22_CR.tiff\n",
        "angulos_22_IND.tiff\n",
        "angulos_22_LD.tiff\n",
        "angulos_22_PC.tiff\n",
        "angulos_22_SB.tiff\n",
        "angulos_22.tiff\n",
        "angulos_22_UR.tiff\n",
        "angulos_22_VT.tiff\n",
        "angulos_2_CR.tiff\n",
        "angulos_2_IND.tiff\n",
        "angulos_2_LD.tiff\n",
        "angulos_2_PC.tiff\n",
        "angulos_2_SB.tiff\n",
        "angulos_2.tiff\n",
        "angulos_2_UR.tiff\n",
        "angulos_2_VT.tiff\n"
       ]
      }
     ],
     "prompt_number": 2
    },
    {
     "cell_type": "markdown",
     "metadata": {},
     "source": [
      "<span style=\"color: black; font-family: Babas; font-size: 2em\">Definimos el camino y cargamos el nombre de los archivos en un array</span>"
     ]
    },
    {
     "cell_type": "code",
     "collapsed": false,
     "input": [
      "path=\"/run/media/cbarrios/NuevoVol/Gerardo/Gerardo/astgmtdem/TIFFS/\"\n",
      "archivos=os.listdir(path)\n"
     ],
     "language": "python",
     "metadata": {},
     "outputs": [],
     "prompt_number": 3
    },
    {
     "cell_type": "markdown",
     "metadata": {},
     "source": [
      "<span style=\"color: black; font-family: Babas; font-size: 2em\">Se sortea como en los programas anteriores y se calcula el porcentaje, luego se convierte al porcentaje en un string que lo explica y se guarda en un archivo txt</span>"
     ]
    },
    {
     "cell_type": "code",
     "collapsed": false,
     "input": [
      "for k in range(0,len(archivos)):\n",
      "    Mi_Data=gdal.Open(path+archivos[k],GA_ReadOnly)\n",
      "    Array=Mi_Data.ReadAsArray()\n",
      "    x,y=Array.shape\n",
      "    z=x*y\n",
      "    c1,c2,c3,c4,c5,c6,c7=(0,0,0,0,0,0,0)\n",
      "    for i in range(0,x):\n",
      "        for j in range(0,y):\n",
      "            if Array[i,j]==1:\n",
      "                c1=c1+1\n",
      "            elif Array[i,j]==2:\n",
      "                c2=c2+1\n",
      "            elif Array[i,j]==3:\n",
      "                c3=c3+1\n",
      "            elif Array[i,j]==4:\n",
      "                c4=c4+1\n",
      "            elif Array[i,j]==5:\n",
      "                c5=c5+1\n",
      "            elif Array[i,j]==6:\n",
      "                c6=c6+1\n",
      "            elif Array[i,j]==0:\n",
      "                z=z-1\n",
      "                c7=c7-1\n",
      "    l1,l2,l3,l4,l5,l6=((c1/z)*100,(c2/z)*100,(c3/z)*100,(c4/z)*100,(c5/z)*100,(c6/z)*100)\n",
      "    p1=\"el porcentaje de terreno con pendientes con angulos del grupo 1  es de :\"+str(l1)+\"% \\n\"\n",
      "    p2=\"el porcentaje de terreno con pendientes con angulos del grupo 2 grados es de :\"+str(l2)+\"% \\n\"\n",
      "    p3=\"el porcentaje de terreno con pendientes con angulos del grupo 3 grados es de :\"+str(l3)+\"% \\n\"\n",
      "    p4=\"el porcentaje de terreno con pendientes con angulos del grupo 4 grados es de :\"+str(l4)+\"% \\n\"\n",
      "    p5=\"el porcentaje de terreno con pendientes con angulos del grupo 5 grados es de :\"+str(l5)+\"% \\n\"\n",
      "    p6=\"el porcentaje de terreno con pendientes con angulos del grupo 6 grados es de :\"+str(l6)+\"% \\n\"\n",
      "    filename=\"/run/media/cbarrios/NuevoVol/Gerardo/Gerardo/astgmtdem/promedios_angulos/\"+archivos[k]+\".txt\"\n",
      "    archivo = open(filename, \"w\") \n",
      "    archivo.write(p1+p2+p3+p4+p5+p6) \n",
      "    archivo.close() "
     ],
     "language": "python",
     "metadata": {},
     "outputs": [],
     "prompt_number": 4
    },
    {
     "cell_type": "markdown",
     "metadata": {},
     "source": [
      "<span style=\"color: black; font-family: Babas; font-size: 2em\">Discretizamos el raster que se lee como en este [Programa](ww.g.com) y lo guardamos</span>"
     ]
    },
    {
     "cell_type": "code",
     "collapsed": false,
     "input": [
      "for k in range(0,len(archivos)):\n",
      "    Mi_Data=gdal.Open(path+archivos[k],GA_ReadOnly)\n",
      "    Array=Mi_Data.ReadAsArray()\n",
      "    x,y=Array.shape\n",
      "    for i in range (0,x):\n",
      "        for j in range (0,y):\n",
      "            if Array[i,j]<=4 :\n",
      "                Array[i,j]=0\n",
      "            elif Array[i,j]>4 :\n",
      "                Array[i,j]=1\n",
      "    #plt.imshow(Array)\n",
      "    #plt.colorbar()\n",
      "    #plt.show()\n",
      "    band1 = Mi_Data.GetRasterBand(1)\n",
      "    geotransform = Mi_Data.GetGeoTransform()\n",
      "    geoproj = Mi_Data.GetProjection()\n",
      "    band1data =Array\n",
      "    format = \"GTiff\"\n",
      "    driver = gdal.GetDriverByName(format)\n",
      "    dst_datatype = gdal.GDT_Float32\n",
      "    dst_ds = driver.Create(\"/run/media/cbarrios/NuevoVol/Gerardo/Gerardo/astgmtdem/habitabilidad/\"+archivos[k],y,x,1,dst_datatype)\n",
      "    dst_ds.SetGeoTransform(geotransform)\n",
      "    dst_ds.SetProjection(geoproj)\n",
      "    dst_ds.GetRasterBand(1).WriteArray(Array)\n",
      "    dst_ds=None\n",
      "    "
     ],
     "language": "python",
     "metadata": {},
     "outputs": [],
     "prompt_number": 8
    },
    {
     "cell_type": "code",
     "collapsed": false,
     "input": [],
     "language": "python",
     "metadata": {},
     "outputs": []
    }
   ],
   "metadata": {}
  }
 ]
}