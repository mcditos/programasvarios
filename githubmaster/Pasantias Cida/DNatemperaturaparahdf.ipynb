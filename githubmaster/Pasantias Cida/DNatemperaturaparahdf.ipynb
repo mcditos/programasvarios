{
 "metadata": {
  "name": "DN a temperatura para hdf"
 },
 "nbformat": 3,
 "nbformat_minor": 0,
 "worksheets": [
  {
   "cells": [
    {
     "cell_type": "markdown",
     "metadata": {},
     "source": [
      "<span style=\"color: black; font-family: Babas; font-size: 2em\"> El primer paso es importar todos los modulos necesarios para el funcionamiento del programa</span>"
     ]
    },
    {
     "cell_type": "code",
     "collapsed": false,
     "input": [
      "import gdal\n",
      "import matplotlib.pyplot as plt\n",
      "import numpy as np\n",
      "from gdalconst import *"
     ],
     "language": "python",
     "metadata": {},
     "outputs": [],
     "prompt_number": 35
    },
    {
     "cell_type": "markdown",
     "metadata": {},
     "source": [
      "<span style=\"color: black; font-family: Babas; font-size: 2em\"> Se definen todas las constantes a usar</span>(La demostracion y explicacion de que son estas constantes puede ser encontrada haciendo click [aqui](https://www.google.com))"
     ]
    },
    {
     "cell_type": "code",
     "collapsed": false,
     "input": [
      "UCCj_banda10=0.006822 ;lamdba_banda10= 8.291 ;K1_banda10=3040.136402 ;K2_banda10=1735.337945\n",
      "UCCj_banda11=0.006780 ;lamdba_banda11=8.634 ;K1_banda11=2482.375199 ;K2_banda11=1666.398761\n",
      "UCCj_banda12=0.006590 ;lamdba_banda12=9.075 ;K1_banda12=1935.060183 ;K2_banda12=1585.420044\n",
      "UCCj_banda13=0.005693 ;lamdba_banda13=10.657 ;K1_banda13=866.468575 ;K2_banda13=1350.069147\n",
      "UCCj_banda14=0.005225 ;lamdba_banda14=11.318 ;K1_banda14=641.326517 ;K2_banda14=1271.221673"
     ],
     "language": "python",
     "metadata": {},
     "outputs": [],
     "prompt_number": 36
    },
    {
     "cell_type": "markdown",
     "metadata": {},
     "source": [
      "<span style=\"color: black; font-family: Babas; font-size: 2em\"> Luego accedemos al directorio desde donde se correra el programa usando comando de bash y verificamos con ls</span>"
     ]
    },
    {
     "cell_type": "code",
     "collapsed": false,
     "input": [
      "%%bash\n",
      "cd /run/media/cbarrios/NuevoVol/descargas/\n",
      "ls *.hdf"
     ],
     "language": "python",
     "metadata": {},
     "outputs": [
      {
       "output_type": "stream",
       "stream": "stdout",
       "text": [
        "AST_L1T_00302082015025425_20170702214312_25641.hdf\n",
        "AST_L1T_00302142014150356_20150619212535_83261.hdf\n",
        "AST_L1T_00302252012024751_20170720020559_2254.hdf\n",
        "AST_L1T_00304022011025346_20170723190244_15301.hdf\n",
        "AST_L1T_00306272010150355_20150602001041_5325.hdf\n",
        "AST_L1T_00307132016024852_20170626061157_20158.hdf\n",
        "AST_L1T_00312212013145751_20150619015916_100229.hdf\n"
       ]
      }
     ],
     "prompt_number": 37
    },
    {
     "cell_type": "markdown",
     "metadata": {},
     "source": [
      "<span style=\"color: black; font-family: Babas; font-size: 2em\">Luego cargamos los archivos .hdf escogiendo cual sera el nombre del archivo y usando el modulo gdal , para luego ver los sub datos del archivo hdf</span>(lo comentado lo hace automatico si en la misma celda)"
     ]
    },
    {
     "cell_type": "code",
     "collapsed": false,
     "input": [
      "path=\"/run/media/cbarrios/NuevoVol/descargas/\" \n",
      "#A=np.array([])\n",
      "#for file in os.listdir(path):\n",
      "  #if file.startswith(\"Ariel\"):\n",
      "    #A=np.append(A,file)\n",
      "    #se usaria filename[k] vez de filename en un loop junto con los pasos posteriores en la siguiente celda \n",
      "filename=\"AST_L1T_00306272010150355_20150602001041_5325.hdf\" \n",
      "Mi_Data=gdal.Open(path+filename,GA_ReadOnly)\n",
      "Mi_Data.GetSubDatasets()"
     ],
     "language": "python",
     "metadata": {},
     "outputs": [
      {
       "output_type": "pyout",
       "prompt_number": 38,
       "text": [
        "[('HDF4_EOS:EOS_SWATH:\"/run/media/cbarrios/NuevoVol/descargas/AST_L1T_00306272010150355_20150602001041_5325.hdf\":VNIR_Swath:ImageData2',\n",
        "  '[4861x5527] ImageData2 VNIR_Swath (8-bit unsigned integer)'),\n",
        " ('HDF4_EOS:EOS_SWATH:\"/run/media/cbarrios/NuevoVol/descargas/AST_L1T_00306272010150355_20150602001041_5325.hdf\":VNIR_Swath:ImageData1',\n",
        "  '[4861x5527] ImageData1 VNIR_Swath (8-bit unsigned integer)'),\n",
        " ('HDF4_EOS:EOS_SWATH:\"/run/media/cbarrios/NuevoVol/descargas/AST_L1T_00306272010150355_20150602001041_5325.hdf\":VNIR_Swath:ImageData3N',\n",
        "  '[4861x5527] ImageData3N VNIR_Swath (8-bit unsigned integer)'),\n",
        " ('HDF4_EOS:EOS_SWATH:\"/run/media/cbarrios/NuevoVol/descargas/AST_L1T_00306272010150355_20150602001041_5325.hdf\":TIR_Swath:ImageData10',\n",
        "  '[811x922] ImageData10 TIR_Swath (16-bit unsigned integer)'),\n",
        " ('HDF4_EOS:EOS_SWATH:\"/run/media/cbarrios/NuevoVol/descargas/AST_L1T_00306272010150355_20150602001041_5325.hdf\":TIR_Swath:ImageData11',\n",
        "  '[811x922] ImageData11 TIR_Swath (16-bit unsigned integer)'),\n",
        " ('HDF4_EOS:EOS_SWATH:\"/run/media/cbarrios/NuevoVol/descargas/AST_L1T_00306272010150355_20150602001041_5325.hdf\":TIR_Swath:ImageData12',\n",
        "  '[811x922] ImageData12 TIR_Swath (16-bit unsigned integer)'),\n",
        " ('HDF4_EOS:EOS_SWATH:\"/run/media/cbarrios/NuevoVol/descargas/AST_L1T_00306272010150355_20150602001041_5325.hdf\":TIR_Swath:ImageData13',\n",
        "  '[811x922] ImageData13 TIR_Swath (16-bit unsigned integer)'),\n",
        " ('HDF4_EOS:EOS_SWATH:\"/run/media/cbarrios/NuevoVol/descargas/AST_L1T_00306272010150355_20150602001041_5325.hdf\":TIR_Swath:ImageData14',\n",
        "  '[811x922] ImageData14 TIR_Swath (16-bit unsigned integer)'),\n",
        " ('HDF4_SDS:UNKNOWN:\"/run/media/cbarrios/NuevoVol/descargas/AST_L1T_00306272010150355_20150602001041_5325.hdf\":0',\n",
        "  '[11x11] Latitude (64-bit floating-point)'),\n",
        " ('HDF4_SDS:UNKNOWN:\"/run/media/cbarrios/NuevoVol/descargas/AST_L1T_00306272010150355_20150602001041_5325.hdf\":1',\n",
        "  '[11x11] Longitude (64-bit floating-point)'),\n",
        " ('HDF4_SDS:UNKNOWN:\"/run/media/cbarrios/NuevoVol/descargas/AST_L1T_00306272010150355_20150602001041_5325.hdf\":2',\n",
        "  '[4861x5527] ImageData2 (8-bit unsigned integer)'),\n",
        " ('HDF4_SDS:UNKNOWN:\"/run/media/cbarrios/NuevoVol/descargas/AST_L1T_00306272010150355_20150602001041_5325.hdf\":3',\n",
        "  '[4861x5527] ImageData1 (8-bit unsigned integer)'),\n",
        " ('HDF4_SDS:UNKNOWN:\"/run/media/cbarrios/NuevoVol/descargas/AST_L1T_00306272010150355_20150602001041_5325.hdf\":4',\n",
        "  '[4861x5527] ImageData3N (8-bit unsigned integer)'),\n",
        " ('HDF4_SDS:UNKNOWN:\"/run/media/cbarrios/NuevoVol/descargas/AST_L1T_00306272010150355_20150602001041_5325.hdf\":5',\n",
        "  '[11x11] Latitude (64-bit floating-point)'),\n",
        " ('HDF4_SDS:UNKNOWN:\"/run/media/cbarrios/NuevoVol/descargas/AST_L1T_00306272010150355_20150602001041_5325.hdf\":6',\n",
        "  '[11x11] Longitude (64-bit floating-point)'),\n",
        " ('HDF4_SDS:UNKNOWN:\"/run/media/cbarrios/NuevoVol/descargas/AST_L1T_00306272010150355_20150602001041_5325.hdf\":7',\n",
        "  '[811x922] ImageData10 (16-bit unsigned integer)'),\n",
        " ('HDF4_SDS:UNKNOWN:\"/run/media/cbarrios/NuevoVol/descargas/AST_L1T_00306272010150355_20150602001041_5325.hdf\":8',\n",
        "  '[811x922] ImageData11 (16-bit unsigned integer)'),\n",
        " ('HDF4_SDS:UNKNOWN:\"/run/media/cbarrios/NuevoVol/descargas/AST_L1T_00306272010150355_20150602001041_5325.hdf\":9',\n",
        "  '[811x922] ImageData12 (16-bit unsigned integer)'),\n",
        " ('HDF4_SDS:UNKNOWN:\"/run/media/cbarrios/NuevoVol/descargas/AST_L1T_00306272010150355_20150602001041_5325.hdf\":10',\n",
        "  '[811x922] ImageData13 (16-bit unsigned integer)'),\n",
        " ('HDF4_SDS:UNKNOWN:\"/run/media/cbarrios/NuevoVol/descargas/AST_L1T_00306272010150355_20150602001041_5325.hdf\":11',\n",
        "  '[811x922] ImageData14 (16-bit unsigned integer)'),\n",
        " ('HDF4_SDS:UNKNOWN:\"/run/media/cbarrios/NuevoVol/descargas/AST_L1T_00306272010150355_20150602001041_5325.hdf\":12',\n",
        "  '[9602x58] VNIR_Supplement (8-bit unsigned integer)'),\n",
        " ('HDF4_SDS:UNKNOWN:\"/run/media/cbarrios/NuevoVol/descargas/AST_L1T_00306272010150355_20150602001041_5325.hdf\":13',\n",
        "  '[71x13] TIR_Supplement_Temp (32-bit unsigned integer)'),\n",
        " ('HDF4_SDS:UNKNOWN:\"/run/media/cbarrios/NuevoVol/descargas/AST_L1T_00306272010150355_20150602001041_5325.hdf\":14',\n",
        "  '[71x100x10x8] TIR_Supplement_Chopper (8-bit unsigned integer)'),\n",
        " ('HDF4_SDS:UNKNOWN:\"/run/media/cbarrios/NuevoVol/descargas/AST_L1T_00306272010150355_20150602001041_5325.hdf\":15',\n",
        "  '[71x935] TIR_Supplement_Encoder (16-bit unsigned integer)')]"
       ]
      }
     ],
     "prompt_number": 38
    },
    {
     "cell_type": "markdown",
     "metadata": {},
     "source": [
      "<span style=\"color: black; font-family: Babas; font-size: 2em\"> Luego guardamos la banda termal a usar en este caso usaremos la banda 11</span>(en versiones posteriores del notebook esto pudo ser automatizado con inputs)"
     ]
    },
    {
     "cell_type": "code",
     "collapsed": false,
     "input": [
      "Sub_data=Mi_Data.GetSubDatasets()[4][0]"
     ],
     "language": "python",
     "metadata": {},
     "outputs": [],
     "prompt_number": 39
    },
    {
     "cell_type": "markdown",
     "metadata": {},
     "source": [
      "<span style=\"color: black; font-family: Babas; font-size: 2em\"> Cargamos el subdato con gdal en una nueva variable</span>"
     ]
    },
    {
     "cell_type": "code",
     "collapsed": false,
     "input": [
      "Banda11=gdal.Open(Sub_data,GA_ReadOnly)"
     ],
     "language": "python",
     "metadata": {},
     "outputs": [],
     "prompt_number": 40
    },
    {
     "cell_type": "markdown",
     "metadata": {},
     "source": [
      "<span style=\"color: black; font-family: Babas; font-size: 2em\"> Transformamos el raster en un array para realizar los calculos</span>"
     ]
    },
    {
     "cell_type": "code",
     "collapsed": false,
     "input": [
      "Banda11_array=Banda11.ReadAsArray()\n",
      "Banda11_array"
     ],
     "language": "python",
     "metadata": {},
     "outputs": [
      {
       "output_type": "pyout",
       "prompt_number": 41,
       "text": [
        "array([[0, 0, 0, ..., 0, 0, 0],\n",
        "       [0, 0, 0, ..., 0, 0, 0],\n",
        "       [0, 0, 0, ..., 0, 0, 0],\n",
        "       ..., \n",
        "       [0, 0, 0, ..., 0, 0, 0],\n",
        "       [0, 0, 0, ..., 0, 0, 0],\n",
        "       [0, 0, 0, ..., 0, 0, 0]], dtype=uint16)"
       ]
      }
     ],
     "prompt_number": 41
    },
    {
     "cell_type": "markdown",
     "metadata": {},
     "source": [
      "<span style=\"color: black; font-family: Babas; font-size: 2em\"> Se plotea con imshow y se a\u00f1ade una barra de color para visualizar nuestro array extraido del raster</span>"
     ]
    },
    {
     "cell_type": "code",
     "collapsed": false,
     "input": [
      "plt.imshow(Banda11_array)\n",
      "plt.colorbar()\n",
      "plt.show()"
     ],
     "language": "python",
     "metadata": {},
     "outputs": [],
     "prompt_number": 42
    },
    {
     "cell_type": "markdown",
     "metadata": {},
     "source": [
      "<span style=\"color: black; font-family: Babas; font-size: 2em\"> Obtenemos la forma del array y definimos uno nuevo con las mismas dimensiones donde se almacenara nuestro primer calculo </span>"
     ]
    },
    {
     "cell_type": "code",
     "collapsed": false,
     "input": [
      "x,y=Banda11_array.shape\n",
      "Banda11_array_conv=np.empty((x,y))"
     ],
     "language": "python",
     "metadata": {},
     "outputs": [],
     "prompt_number": 43
    },
    {
     "cell_type": "markdown",
     "metadata": {},
     "source": [
      "<span style=\"color: black; font-family: Babas; font-size: 2em\"> Se realiza la conversion de numeros digitales a radianza espectral</span> (explicacion [aqui](https://www.google.com)) ademas se calcula el tiempo que tarda en ejecutarse la celda"
     ]
    },
    {
     "cell_type": "code",
     "collapsed": false,
     "input": [
      "#%%timeit \n",
      "for i in range(0,x):\n",
      "    for j in range(0,y):\n",
      "        Banda11_array_conv[i,j]=(Banda11_array[i,j]-1)*UCCj_banda11\n"
     ],
     "language": "python",
     "metadata": {},
     "outputs": [
      {
       "output_type": "stream",
       "stream": "stdout",
       "text": [
        "1 loops, best of 3: 11.6 s per loop\n"
       ]
      }
     ],
     "prompt_number": 44
    },
    {
     "cell_type": "markdown",
     "metadata": {},
     "source": [
      "<span style=\"color: black; font-family: Babas; font-size: 2em\"> Visualizamos el cambio en nuestro raster</span> "
     ]
    },
    {
     "cell_type": "code",
     "collapsed": false,
     "input": [
      "plt.imshow(Banda11_array_conv)\n",
      "plt.colorbar()\n",
      "plt.show()"
     ],
     "language": "python",
     "metadata": {},
     "outputs": [],
     "prompt_number": 45
    },
    {
     "cell_type": "markdown",
     "metadata": {},
     "source": [
      "<span style=\"color: black; font-family: Babas; font-size: 2em\"> Definimos un nuevo array donde guardaremos nuestro segundo calculo y realizamos el calculo</span>(el error que vemos se debe a los valores sin medicion) "
     ]
    },
    {
     "cell_type": "code",
     "collapsed": false,
     "input": [
      "#%%timeit\n",
      "Banda11_T=np.zeros((x,y))\n",
      "for i in range(0,x):\n",
      "    for j in range(0,y):\n",
      "        Banda11_T[i,j]=((K2_banda11)/np.log((K1_banda11/Banda11_array_conv[i,j])+1))-273.15"
     ],
     "language": "python",
     "metadata": {},
     "outputs": [
      {
       "output_type": "stream",
       "stream": "stderr",
       "text": [
        "-c:4: RuntimeWarning: invalid value encountered in log\n"
       ]
      }
     ],
     "prompt_number": 48
    },
    {
     "cell_type": "markdown",
     "metadata": {},
     "source": [
      "<span style=\"color: black; font-family: Babas; font-size: 2em\"> De nuevo visualizamos </span> "
     ]
    },
    {
     "cell_type": "code",
     "collapsed": false,
     "input": [
      "plt.imshow(Banda11_T)\n",
      "plt.colorbar()\n",
      "plt.show()"
     ],
     "language": "python",
     "metadata": {},
     "outputs": [],
     "prompt_number": 50
    },
    {
     "cell_type": "markdown",
     "metadata": {},
     "source": [
      "<span style=\"color: black; font-family: Babas; font-size: 2em\"> Y por ultimo Guardamos un raster con nuestra nueva data</span> "
     ]
    },
    {
     "cell_type": "code",
     "collapsed": false,
     "input": [
      "band1 = Banda10.GetRasterBand(1)\n",
      "geotransform = Banda10.GetGeoTransform()\n",
      "geoproj = Banda10.GetProjection()\n",
      "band1data =Banda10_T\n",
      "format = \"GTiff\"\n",
      "driver = gdal.GetDriverByName(format)\n",
      "dst_datatype = gdal.GDT_Float32\n",
      "dst_ds = driver.Create(filename+\"tiff\",y,x,1,dst_datatype)\n",
      "dst_ds.SetGeoTransform(geotransform)\n",
      "dst_ds.SetProjection(geoproj)\n",
      "dst_ds.GetRasterBand(1).WriteArray(Banda10_T)\n",
      "dst_ds=None"
     ],
     "language": "python",
     "metadata": {},
     "outputs": []
    }
   ],
   "metadata": {}
  }
 ]
}