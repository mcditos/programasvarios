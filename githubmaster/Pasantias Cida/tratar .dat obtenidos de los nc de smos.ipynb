{
 "cells": [
  {
   "cell_type": "markdown",
   "metadata": {},
   "source": [
    "<span style=\"color: black; font-family: Babas; font-size: 2em\"> El primer paso es importar todos los modulos necesarios para el funcionamiento del programa</span>"
   ]
  },
  {
   "cell_type": "code",
   "execution_count": 1,
   "metadata": {},
   "outputs": [],
   "source": [
    "import matplotlib.pyplot as plt\n",
    "import numpy as np\n",
    "import os\n"
   ]
  },
  {
   "cell_type": "markdown",
   "metadata": {},
   "source": [
    "<span style=\"color: black; font-family: Babas; font-size: 2em\">Luego entramos en la carpeta desde donde se correra el programa usando el comando \n",
    "    cd del shell de bash</span>"
   ]
  },
  {
   "cell_type": "code",
   "execution_count": 3,
   "metadata": {},
   "outputs": [
    {
     "name": "stdout",
     "output_type": "stream",
     "text": [
      "/Users/rosmerodriguez/Desktop/respaldo/Gerardo_RESPALDO/DATA-SMOS/SMOS-tratamiento/febrero/2011\n"
     ]
    }
   ],
   "source": [
    "cd /Users/rosmerodriguez/Desktop/respaldo/Gerardo_RESPALDO/DATA-SMOS/SMOS-tratamiento/febrero/2011/"
   ]
  },
  {
   "cell_type": "markdown",
   "metadata": {},
   "source": [
    "<span style=\"color: black; font-family: Babas; font-size: 2em\">Lo siguiente es indicarle el path al modulo os para asi extraer el directorio como un string</span>"
   ]
  },
  {
   "cell_type": "code",
   "execution_count": 4,
   "metadata": {},
   "outputs": [],
   "source": [
    "path=\"/Users/rosmerodriguez/Desktop/respaldo/Gerardo_RESPALDO/DATA-SMOS/SMOS-tratamiento/febrero/2011/\"\n",
    "archivos=os.listdir(path)\n"
   ]
  },
  {
   "cell_type": "markdown",
   "metadata": {},
   "source": [
    "<span style=\"color: black; font-family: Babas; font-size: 2em\">Luego Filtramos el archivo .dat a traves de los parametros establñecidos y lo guardamos como un csv </span>(los comandos que estan comentados permiten ver el proceso en forma grafica sin embargo correr el programa con ellos incluidos es algo tedioso )"
   ]
  },
  {
   "cell_type": "code",
   "execution_count": 6,
   "metadata": {},
   "outputs": [],
   "source": [
    "for z in range(0,len(archivos)) :\n",
    "    Smos=np.loadtxt(archivos[z])\n",
    "    #plt.scatter(Smos[:,0],Smos[:,1], c=Smos[:,2],cmap='gist_yarg')\n",
    "    #plt.colorbar()\n",
    "    #plt.show()\n",
    "    A=np.empty([94944,3])\n",
    "    C=np.array([])\n",
    "    for i  in range(0,len(Smos)):\n",
    "        if 9.8<=Smos[i,0]<=11 :\n",
    "            if -68<=Smos[i,1]<=-66 :\n",
    "                if np.isnan(Smos[i,2])==False :            \n",
    "                    A[i,0]=Smos[i,0]\n",
    "                    A[i,1]=Smos[i,1]\n",
    "                    A[i,2]=Smos[i,2]\n",
    "                    C=np.append(C,i)\n",
    "    len(C)\n",
    "    D=np.empty([len(C),3])\n",
    "    for i in range (0,len(C)):\n",
    "        D[i,0]=A[C[i],0]\n",
    "        D[i,1]=A[C[i],1]\n",
    "        D[i,2]=A[C[i],2]\n",
    "    #plt.scatter(D[:,0],D[:,1], c=D[:,2],cmap='gist_yarg')\n",
    "    #plt.colorbar()\n",
    "    #plt.show()\n",
    "    np.savetxt(\"/run/media/cbarrios/NuevoVol/Gerardo/DATA-SMOS/SMOS-tratamiento/tratamiento_python/csv/febrero/2011/\"+archivos[z]+'.csv',D, delimiter=',')"
   ]
  }
 ],
 "metadata": {
  "kernelspec": {
   "display_name": "Python 3",
   "language": "python",
   "name": "python3"
  },
  "language_info": {
   "codemirror_mode": {
    "name": "ipython",
    "version": 3
   },
   "file_extension": ".py",
   "mimetype": "text/x-python",
   "name": "python",
   "nbconvert_exporter": "python",
   "pygments_lexer": "ipython3",
   "version": "3.6.1"
  }
 },
 "nbformat": 4,
 "nbformat_minor": 1
}
