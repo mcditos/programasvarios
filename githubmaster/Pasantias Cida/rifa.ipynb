{
 "metadata": {
  "name": ""
 },
 "nbformat": 3,
 "nbformat_minor": 0,
 "worksheets": [
  {
   "cells": [
    {
     "cell_type": "markdown",
     "metadata": {},
     "source": [
      "###\u00bfComo hacer una rifa con python ?"
     ]
    },
    {
     "cell_type": "markdown",
     "metadata": {},
     "source": [
      "En este tutorial aprenderemos como realizar un algoritmo sencillo que seleccione pseudo-aleatoriamente de una lista o lo que es lo mismo una rifa,para ello usaremos un generador de numeros pseudo-aleatorios , el modulo random cuenta con varios , y este es el modulo que usaremos asi que debemos importarlo"
     ]
    },
    {
     "cell_type": "code",
     "collapsed": false,
     "input": [
      "import random"
     ],
     "language": "python",
     "metadata": {},
     "outputs": [],
     "prompt_number": 1
    },
    {
     "cell_type": "markdown",
     "metadata": {},
     "source": [
      "para realizar una rifa debemos tener posibles ganadores , supongamos que realizaremos una rifa para un concierto , y aquel que tenga el numero de entrada que corresponda al resultado de la rifa ganara el premio , si el concierto vendio todas sus entradas y estas van desde el 0 hasta el 2000 entonces"
     ]
    },
    {
     "cell_type": "code",
     "collapsed": false,
     "input": [
      "lista_De_Boletos=list(range(2001))"
     ],
     "language": "python",
     "metadata": {},
     "outputs": [],
     "prompt_number": 2
    },
    {
     "cell_type": "markdown",
     "metadata": {},
     "source": [
      "Analisemos como se realizo esta lista , lo primero es el romando range el cual es una funcion que incluye python y simplemente retorna los numeros desde el 0 hasta n - 1 observemos mejor su comportamiento\n"
     ]
    },
    {
     "cell_type": "code",
     "collapsed": false,
     "input": [
      "range(6)"
     ],
     "language": "python",
     "metadata": {},
     "outputs": [
      {
       "metadata": {},
       "output_type": "pyout",
       "prompt_number": 5,
       "text": [
        "[0, 1, 2, 3, 4, 5]"
       ]
      }
     ],
     "prompt_number": 5
    },
    {
     "cell_type": "markdown",
     "metadata": {},
     "source": [
      "Convertimos esto en una lista solo para asegurarnos de que funcione debidamente"
     ]
    },
    {
     "cell_type": "code",
     "collapsed": false,
     "input": [
      "list(range(6))"
     ],
     "language": "python",
     "metadata": {},
     "outputs": [
      {
       "metadata": {},
       "output_type": "pyout",
       "prompt_number": 6,
       "text": [
        "[0, 1, 2, 3, 4, 5]"
       ]
      }
     ],
     "prompt_number": 6
    },
    {
     "cell_type": "markdown",
     "metadata": {},
     "source": [
      "el siguiente paso es escoger a alguien aleatoriamente para realizar la rifa esto es sencillo con la funcion choice () del modulo random"
     ]
    },
    {
     "cell_type": "code",
     "collapsed": false,
     "input": [
      "random.choice(lista_De_Boletos)"
     ],
     "language": "python",
     "metadata": {},
     "outputs": [
      {
       "metadata": {},
       "output_type": "pyout",
       "prompt_number": 7,
       "text": [
        "1124"
       ]
      }
     ],
     "prompt_number": 7
    },
    {
     "cell_type": "markdown",
     "metadata": {},
     "source": [
      "podemos correrlo varias veces para asegurarnos de que no esta truqueado"
     ]
    },
    {
     "cell_type": "code",
     "collapsed": false,
     "input": [
      "print(random.choice(lista_De_Boletos))\n",
      "print(random.choice(lista_De_Boletos))\n",
      "print(random.choice(lista_De_Boletos))"
     ],
     "language": "python",
     "metadata": {},
     "outputs": [
      {
       "output_type": "stream",
       "stream": "stdout",
       "text": [
        "879\n",
        "146\n",
        "631\n"
       ]
      }
     ],
     "prompt_number": 8
    },
    {
     "cell_type": "markdown",
     "metadata": {},
     "source": [
      "Notece que funciona de igual forma si usamos nombres en vez de numeros supongamos que los participantes de la rifa son Maria , Juan , Jose , Alberto , Pedro y Ghitanjaly"
     ]
    },
    {
     "cell_type": "code",
     "collapsed": false,
     "input": [
      "Participantes_rifa = [\"Maria\", \"Juan\",\"Jose\",\"Alberto\", \"Pedro\",\"Ghitanjaly\"]"
     ],
     "language": "python",
     "metadata": {},
     "outputs": [],
     "prompt_number": 10
    },
    {
     "cell_type": "code",
     "collapsed": false,
     "input": [
      "print(random.choice(Participantes_rifa))\n",
      "print(random.choice(Participantes_rifa))"
     ],
     "language": "python",
     "metadata": {},
     "outputs": [
      {
       "output_type": "stream",
       "stream": "stdout",
       "text": [
        "Jose\n",
        "Maria\n"
       ]
      }
     ],
     "prompt_number": 21
    },
    {
     "cell_type": "markdown",
     "metadata": {},
     "source": [
      "si queremos mas de un ganador podemos usar la funcion sample(Python2) o choices(Python3)"
     ]
    },
    {
     "cell_type": "code",
     "collapsed": false,
     "input": [
      "random.sample(Participantes_rifa,k=2)"
     ],
     "language": "python",
     "metadata": {},
     "outputs": [
      {
       "metadata": {},
       "output_type": "pyout",
       "prompt_number": 26,
       "text": [
        "['Ghitanjaly', 'Juan']"
       ]
      }
     ],
     "prompt_number": 26
    },
    {
     "cell_type": "markdown",
     "metadata": {},
     "source": [
      "donde k=2 denota el numero de ganadores en este caso 2, si quisieramos un output mas amigable podriamos intentar usar el siguiente codigo"
     ]
    },
    {
     "cell_type": "code",
     "collapsed": false,
     "input": [
      "ganadores=random.sample(Participantes_rifaa,k=2)\n",
      "print(\"El ganador del primer premio es :\",ganadores[0])\n",
      "print(\"El ganador del segundo premio es :\",ganadores[1])"
     ],
     "language": "python",
     "metadata": {},
     "outputs": [
      {
       "output_type": "stream",
       "stream": "stdout",
       "text": [
        "('El ganador del primer premio es :', 'Alberto')\n",
        "('El ganador del segundo premio es :', 'Jose')\n"
       ]
      }
     ],
     "prompt_number": 29
    },
    {
     "cell_type": "code",
     "collapsed": false,
     "input": [],
     "language": "python",
     "metadata": {},
     "outputs": []
    }
   ],
   "metadata": {}
  }
 ]
}